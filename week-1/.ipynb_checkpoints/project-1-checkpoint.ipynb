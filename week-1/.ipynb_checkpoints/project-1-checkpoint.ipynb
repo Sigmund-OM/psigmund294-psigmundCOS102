{
 "cells": [
  {
   "cell_type": "code",
   "execution_count": 1,
   "id": "ac5b9453-5d5a-406b-86a9-9f1e653e77d9",
   "metadata": {},
   "outputs": [
    {
     "name": "stdout",
     "output_type": "stream",
     "text": [
      "The simple intrest is  28000.000000000004\n"
     ]
    }
   ],
   "source": [
    "p = 25000\n",
    "r = 4\n",
    "t = 3\n",
    "n = 1 +((r/100)*t)\n",
    "A = p * n\n",
    "print(\"The simple intrest is \",A)"
   ]
  },
  {
   "cell_type": "code",
   "execution_count": 2,
   "id": "0a907b92-6846-4e9d-a4e1-7c3258c854ef",
   "metadata": {},
   "outputs": [
    {
     "name": "stdout",
     "output_type": "stream",
     "text": [
      "the compound interest is  18225000.0\n"
     ]
    }
   ],
   "source": [
    "p = 25000\n",
    "r = 4\n",
    "t = 3\n",
    "n = 2\n",
    "s = n*t\n",
    "m = (1 + r/n)**s\n",
    "A = p*m\n",
    "print(\"the compound interest is \",A)\n"
   ]
  },
  {
   "cell_type": "code",
   "execution_count": 3,
   "id": "6572f33b-7b50-4058-b5be-aaf5927cb4a4",
   "metadata": {},
   "outputs": [
    {
     "name": "stdout",
     "output_type": "stream",
     "text": [
      "the annuity plan is  9100000.0\n"
     ]
    }
   ],
   "source": [
    "p = 25000\n",
    "r = 4\n",
    "t = 3\n",
    "n = 2\n",
    "s = n * t\n",
    "m = (1+(r/n))\n",
    "k = ((m**s)-1)\n",
    "l = r/n\n",
    "A = p * (k/l)\n",
    "print(\"the annuity plan is \",A)"
   ]
  },
  {
   "cell_type": "code",
   "execution_count": null,
   "id": "d79c34b5-38d2-4d58-b9e6-9fc787483955",
   "metadata": {},
   "outputs": [],
   "source": []
  }
 ],
 "metadata": {
  "kernelspec": {
   "display_name": "Python 3 (ipykernel)",
   "language": "python",
   "name": "python3"
  },
  "language_info": {
   "codemirror_mode": {
    "name": "ipython",
    "version": 3
   },
   "file_extension": ".py",
   "mimetype": "text/x-python",
   "name": "python",
   "nbconvert_exporter": "python",
   "pygments_lexer": "ipython3",
   "version": "3.11.7"
  }
 },
 "nbformat": 4,
 "nbformat_minor": 5
}
