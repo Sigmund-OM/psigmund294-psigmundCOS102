{
 "cells": [
  {
   "cell_type": "code",
   "execution_count": 1,
   "id": "43e1e4d7-581f-484a-94d8-effde470a3c5",
   "metadata": {},
   "outputs": [
    {
     "name": "stdout",
     "output_type": "stream",
     "text": [
      "I'm first call to user defined function!\n",
      "Again second call to the same function\n"
     ]
    }
   ],
   "source": [
    "def printme( str ):\n",
    "    #This is a print function\n",
    "    print (str);\n",
    "    return;\n",
    "\n",
    "printme(\"I'm first call to user defined function!\");\n",
    "printme(\"Again second call to the same function\");"
   ]
  },
  {
   "cell_type": "code",
   "execution_count": 2,
   "id": "3caf98c0-b21b-4ee2-b72e-8824f6e1aeda",
   "metadata": {},
   "outputs": [
    {
     "name": "stdout",
     "output_type": "stream",
     "text": [
      "Values inside the function:  [10, 20, 30, [1, 2, 3, 4]]\n",
      "Values outside the function:  [10, 20, 30, [1, 2, 3, 4]]\n"
     ]
    }
   ],
   "source": [
    "def changeme( mylist ):\n",
    "    #This changes a passed list\n",
    "    mylist.append([1,2,3,4])\n",
    "    print (\"Values inside the function: \", mylist)\n",
    "    return\n",
    "mylist = [10,20,30]\n",
    "changeme( mylist )\n",
    "print (\"Values outside the function: \", mylist)"
   ]
  },
  {
   "cell_type": "code",
   "execution_count": 4,
   "id": "ddadf5be-5ce0-4f78-becd-717529a0037b",
   "metadata": {},
   "outputs": [
    {
     "name": "stdout",
     "output_type": "stream",
     "text": [
      "Values inside the function:  [1, 2, 3, 4]\n",
      "Values outside the function:  [10, 20, 30]\n"
     ]
    }
   ],
   "source": [
    "def changeme( mylist ):\n",
    "    #This changes a passed list\n",
    "    mylist = [1,2,3,4];\n",
    "    print(\"Values inside the function: \", mylist)\n",
    "    return\n",
    "mylist = [10,20,30];\n",
    "changeme( mylist );\n",
    "print (\"Values outside the function: \", mylist)"
   ]
  },
  {
   "cell_type": "code",
   "execution_count": 1,
   "id": "a13fc955-bf74-46d2-8a2f-793a29dac652",
   "metadata": {},
   "outputs": [
    {
     "name": "stdout",
     "output_type": "stream",
     "text": [
      "My string\n"
     ]
    }
   ],
   "source": [
    "def printme( str ):\n",
    "    #This prints a passed string\n",
    "    print ( str );\n",
    "    return;\n",
    "printme(str = \"My string\");"
   ]
  },
  {
   "cell_type": "code",
   "execution_count": 2,
   "id": "4ca1c588-c902-4e81-8daa-2370c462a4e4",
   "metadata": {},
   "outputs": [
    {
     "name": "stdout",
     "output_type": "stream",
     "text": [
      "Name:  miki\n",
      "Age:  50\n"
     ]
    }
   ],
   "source": [
    "def printinfo( name, age ):\n",
    "    #Test function\n",
    "    print (\"Name: \", name);\n",
    "    print (\"Age: \", age);\n",
    "    return;\n",
    "printinfo( age=50, name=\"miki\" );\n"
   ]
  },
  {
   "cell_type": "code",
   "execution_count": 3,
   "id": "2a2a8452-00e6-4fc0-9236-8b11149c07e9",
   "metadata": {},
   "outputs": [
    {
     "name": "stdout",
     "output_type": "stream",
     "text": [
      "Name:  miki\n",
      "Age:  50\n",
      "Name:  miki\n",
      "Age:  35\n"
     ]
    }
   ],
   "source": [
    "def printinfo( name, age = 35 ):\n",
    "    #Test function\n",
    "    print (\"Name: \", name);\n",
    "    print(\"Age: \", age);\n",
    "    return;\n",
    "printinfo( age=50, name=\"miki\" );\n",
    "printinfo( name=\"miki\" );"
   ]
  },
  {
   "cell_type": "code",
   "execution_count": 4,
   "id": "9b0d0017-b703-4615-a8de-43bb911cd07e",
   "metadata": {},
   "outputs": [
    {
     "name": "stdout",
     "output_type": "stream",
     "text": [
      "Output is: \n",
      "10\n",
      "Output is: \n",
      "70\n",
      "60\n"
     ]
    }
   ],
   "source": [
    "def printinfo( arg1, *vartuple ):\n",
    "    #This is test\n",
    "    print (\"Output is: \")\n",
    "    print (arg1)\n",
    "    for var in vartuple:\n",
    "        print (var)\n",
    "        return;\n",
    "printinfo( 10 );\n",
    "printinfo( 70, 60, 50 );    "
   ]
  },
  {
   "cell_type": "code",
   "execution_count": 6,
   "id": "af844bca-a96d-4eb1-af33-392685d3deef",
   "metadata": {},
   "outputs": [
    {
     "name": "stdout",
     "output_type": "stream",
     "text": [
      "Inside the function local total :  30\n",
      "Outside the function global total :  50\n"
     ]
    }
   ],
   "source": [
    "total = 50; # This is global variable.\n",
    "def sum( arg1, arg2 ):\n",
    "    # Add both the parameters\n",
    "    total = arg1 + arg2;\n",
    "    print (\"Inside the function local total : \", total)\n",
    "    return total;\n",
    "# Now you can call sum function\n",
    "sum( 10, 20 );\n",
    "print (\"Outside the function global total : \", total)"
   ]
  },
  {
   "cell_type": "code",
   "execution_count": 7,
   "id": "b32f5517-d34a-471d-b0cd-5bab763a8f69",
   "metadata": {},
   "outputs": [
    {
     "name": "stdout",
     "output_type": "stream",
     "text": [
      "Lawal Edward Tolu Tina\n",
      "Mary\n"
     ]
    }
   ],
   "source": [
    "def swap(x, y):\n",
    "    global a\n",
    "    a = \"Lawal\"\n",
    "    x,y = y,x\n",
    "    b = \"Chris\"\n",
    "    b = \"Edward\"\n",
    "    c = \"Lola\"\n",
    "    print(a,b,x,y)\n",
    "    a = \"Mary\"\n",
    "swap(\"Tina\",\"Tolu\")\n",
    "print(a)"
   ]
  },
  {
   "cell_type": "code",
   "execution_count": 17,
   "id": "b92b5ebe-b498-40ee-86c8-55878302bcc9",
   "metadata": {},
   "outputs": [],
   "source": [
    "import tkinter as tk\n",
    "from tkinter import messagebox\n",
    "\n",
    "#Handling button click event\n",
    "def button_click():\n",
    "    #print(\"Button clicked\")\n",
    "\n",
    "    # Show an information message box\n",
    "    messagebox.showinfo(\"Info\", \"Welcome to COS 102 GUI App!\\n\") \n",
    "\n",
    "    # Ask for user confirmation\n",
    "    result = messagebox.askyesno(\"Confirmation\", \"Do you want to continue?\")\n",
    "\n",
    "# Create the main window\n",
    "root = tk.Tk()\n",
    "root.title(\"Home Page\")\n",
    "root.geometry(\"300x100\")\n",
    "\n",
    "# Add a label widget\n",
    "label = tk.Label(root, text=\"Hello Friend \\n\")\n",
    "label.pack()\n",
    "\n",
    "# Add a button widget\n",
    "button = tk.Button(root, text=\"Click Me!\", command=button_click)\n",
    "button.pack()\n",
    "\n",
    "# Styling the button widget\n",
    "button.config(fg=\"red\", bg=\"yellow\")\n",
    "\n",
    "# Start the event loop\n",
    "root.mainloop()"
   ]
  },
  {
   "cell_type": "code",
   "execution_count": 3,
   "id": "dfa7095d-2004-4f02-8a5e-2e89cd7a766e",
   "metadata": {},
   "outputs": [],
   "source": [
    "import tkinter as tk\n",
    "from tkinter import messagebox\n",
    "from PIL import Image, ImageTk\n",
    "\n",
    "def welcomeMessaage(username):\n",
    "    # Create a Tkinter window\n",
    "    window = tk.Toplevel(root)\n",
    "    window.title(\"Admin Box\")\n",
    "    window.geometry(\"500x200\")\n",
    "\n",
    "    label_1 = tk.Label(window, text=f\"Welcome {username}\\n\")\n",
    "    label_1.pack()\n",
    "    label_2 = tk.Label(window, text=\"This is Python GUI with Tkinter\")\n",
    "    label_2.pack()\n",
    "\n",
    "\n",
    "    # Run the Tkinter event loop\n",
    "    root.mainloop()\n",
    "\n",
    "def submiit():\n",
    "    username = username_entery.get()\n",
    "    password = password_entry.get()\n",
    "\n",
    "    if username == \"Mary\" and password == \"cos102\":\n",
    "        welcomeMessage(username)\n",
    "    else:\n",
    "        messagebox.showerror(\"Login\", \"Invalid username or password\")\n",
    "\n",
    "\n",
    "    # Create main window\n",
    "    root = tk.Tk()\n",
    "    root.title(\"Login Form\")\n",
    "    root.geometry(\"500x200\")\n",
    "\n",
    "\n",
    "    # Create username label and entry\n",
    "    username_label = tk.Label(root, text=\"Username:\")\n",
    "    username_label.pack()\n",
    "    username_entry = tk.Entry(root)\n",
    "    username_entry.pack()\n",
    "\n",
    "    # Create password label and entry\n",
    "    password_label = tk.Label(root, text=\"Password:\")\n",
    "    password_label.pack()\n",
    "    password_entry = tk.Entry(root, show=\"*\")\n",
    "    password_entry.pack()\n",
    "\n",
    "    # Create submit button\n",
    "    submit_button = tk.Button(root, text=\"Submit\", command=submit)\n",
    "    submit_button.pack()\n",
    "\n",
    "    # Run the main event loop\n",
    "    root.mainloop()\n",
    "    \n",
    "    "
   ]
  },
  {
   "cell_type": "code",
   "execution_count": null,
   "id": "53648cc1-5773-4794-b7a4-5958e876cf3d",
   "metadata": {},
   "outputs": [],
   "source": []
  }
 ],
 "metadata": {
  "kernelspec": {
   "display_name": "Python 3 (ipykernel)",
   "language": "python",
   "name": "python3"
  },
  "language_info": {
   "codemirror_mode": {
    "name": "ipython",
    "version": 3
   },
   "file_extension": ".py",
   "mimetype": "text/x-python",
   "name": "python",
   "nbconvert_exporter": "python",
   "pygments_lexer": "ipython3",
   "version": "3.11.7"
  }
 },
 "nbformat": 4,
 "nbformat_minor": 5
}
