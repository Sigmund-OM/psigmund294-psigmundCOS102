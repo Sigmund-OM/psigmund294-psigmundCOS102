{
 "cells": [
  {
   "cell_type": "code",
   "execution_count": 1,
   "id": "d417eec5-b01e-470b-ae30-28d7a89112d0",
   "metadata": {},
   "outputs": [],
   "source": [
    "girls = { 'Evelyn' : [17,5.5,80],\n",
    "        'Jessica' : [16,6.0,85],\n",
    "        'Sonto' : [17,5.4,70],\n",
    "        'Edith' : [18,5.9,60],\n",
    "        'Liza': [16,5.6,76],\n",
    "        'Madonna' : [18,5.5,65],\n",
    "        'Waje' : [17,6.1,87],\n",
    "        'Tola': [20,6.0,85],\n",
    "        'Aisha' : [19,5.7,50],\n",
    "        'Latifa' : [17,5.5,48]}\n",
    "#Dictionary of girls. Name is the 'key' , Array populated with Age, height and score values."
   ]
  },
  {
   "cell_type": "code",
   "execution_count": 2,
   "id": "7d0cd8b5-5246-446c-a630-1b12a78026b6",
   "metadata": {},
   "outputs": [],
   "source": [
    "boys = {'Chinedu': [19,5.7,74],\n",
    "       'Liam': [16,5.9,87],\n",
    "       'Wale' : [18,5.8,75],\n",
    "       'Gbenga' : [17,6.1,68],\n",
    "       'Abiola' : [20,5.9,65],\n",
    "       'Kola' : [19,5.5,78],\n",
    "       'Kunle' : [16,6.1,87],\n",
    "       'George' : [18,5.4,98],\n",
    "       'Thomas' : [17,5.8,54],\n",
    "       'Wesley' : [19,5.7,60]}"
   ]
  },
  {
   "cell_type": "code",
   "execution_count": 3,
   "id": "22f37e9f-dd40-473f-b8f7-3837077b3b97",
   "metadata": {},
   "outputs": [
    {
     "name": "stdout",
     "output_type": "stream",
     "text": [
      "Name\tAge\tHeight\tScore\n",
      "Evelyn |  17 |  5.5 |  80 |  \n",
      "\n",
      "Jessica |  16 |  6.0 |  85 |  \n",
      "\n",
      "Sonto |  17 |  5.4 |  70 |  \n",
      "\n",
      "Edith |  18 |  5.9 |  60 |  \n",
      "\n",
      "Liza |  16 |  5.6 |  76 |  \n",
      "\n",
      "Madonna |  18 |  5.5 |  65 |  \n",
      "\n",
      "Waje |  17 |  6.1 |  87 |  \n",
      "\n",
      "Tola |  20 |  6.0 |  85 |  \n",
      "\n",
      "Aisha |  19 |  5.7 |  50 |  \n",
      "\n",
      "Latifa |  17 |  5.5 |  48 |  \n",
      "\n",
      "Chinedu |  19 |  5.7 |  74 |  \n",
      "\n",
      "Liam |  16 |  5.9 |  87 |  \n",
      "\n",
      "Wale |  18 |  5.8 |  75 |  \n",
      "\n",
      "Gbenga |  17 |  6.1 |  68 |  \n",
      "\n",
      "Abiola |  20 |  5.9 |  65 |  \n",
      "\n",
      "Kola |  19 |  5.5 |  78 |  \n",
      "\n",
      "Kunle |  16 |  6.1 |  87 |  \n",
      "\n",
      "George |  18 |  5.4 |  98 |  \n",
      "\n",
      "Thomas |  17 |  5.8 |  54 |  \n",
      "\n",
      "Wesley |  19 |  5.7 |  60 |  \n",
      "\n"
     ]
    }
   ],
   "source": [
    "print(\"Name\\tAge\\tHeight\\tScore\")\n",
    "students = [girls,boys]\n",
    "for gender in students:\n",
    "    for student in gender:\n",
    "        print(student,\"|\" , \" \" , end = \"\")\n",
    "        for element in gender[student]:\n",
    "            print(element , \"|\" ,  \" \", end = \"\")\n",
    "        print(\"\\n\")\n",
    "           "
   ]
  },
  {
   "cell_type": "code",
   "execution_count": null,
   "id": "73b29560-8edb-4907-97e6-9448a34a8fef",
   "metadata": {},
   "outputs": [],
   "source": []
  }
 ],
 "metadata": {
  "kernelspec": {
   "display_name": "Python 3 (ipykernel)",
   "language": "python",
   "name": "python3"
  },
  "language_info": {
   "codemirror_mode": {
    "name": "ipython",
    "version": 3
   },
   "file_extension": ".py",
   "mimetype": "text/x-python",
   "name": "python",
   "nbconvert_exporter": "python",
   "pygments_lexer": "ipython3",
   "version": "3.11.7"
  }
 },
 "nbformat": 4,
 "nbformat_minor": 5
}
