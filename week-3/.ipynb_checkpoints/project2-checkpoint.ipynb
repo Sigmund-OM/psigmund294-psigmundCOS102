{
 "cells": [
  {
   "cell_type": "code",
   "execution_count": 1,
   "id": "1bd07f67-f9c7-47dd-86f6-6696e9bfcee7",
   "metadata": {},
   "outputs": [],
   "source": [
    "def salary_determiner(age, years_of_experience):\n",
    "    if age >= 55 and years_of_experience > 25:\n",
    "        atr = 5_600_000\n",
    "    elif age >= 45 and years_of_experience >20:\n",
    "        atr = 4_480_000\n",
    "    elif age >= 35 and years_of_experience > 10:\n",
    "        atr = 1_500_000\n",
    "    else:\n",
    "        atr = 550_000\n",
    "    return atr"
   ]
  },
  {
   "cell_type": "code",
   "execution_count": 2,
   "id": "099d16f9-d4f6-423f-ab0b-1dbfeb089b9f",
   "metadata": {},
   "outputs": [],
   "source": [
    "def main():\n",
    "    number"
   ]
  },
  {
   "cell_type": "code",
   "execution_count": null,
   "id": "d0d9c558-d7e8-48fd-b971-31ebf180e729",
   "metadata": {},
   "outputs": [],
   "source": []
  }
 ],
 "metadata": {
  "kernelspec": {
   "display_name": "Python 3 (ipykernel)",
   "language": "python",
   "name": "python3"
  },
  "language_info": {
   "codemirror_mode": {
    "name": "ipython",
    "version": 3
   },
   "file_extension": ".py",
   "mimetype": "text/x-python",
   "name": "python",
   "nbconvert_exporter": "python",
   "pygments_lexer": "ipython3",
   "version": "3.11.7"
  }
 },
 "nbformat": 4,
 "nbformat_minor": 5
}
