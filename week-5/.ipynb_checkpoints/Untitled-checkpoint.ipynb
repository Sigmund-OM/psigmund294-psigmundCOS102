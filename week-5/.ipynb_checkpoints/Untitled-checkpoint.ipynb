{
 "cells": [
  {
   "cell_type": "code",
   "execution_count": 3,
   "id": "9f52e127-2a7f-46f0-8cfb-d27469525fc9",
   "metadata": {},
   "outputs": [],
   "source": [
    "import tkinter as tk\n",
    "from tkinter import *\n",
    "from tkinter import messagebox\n",
    "from tkinter.constants import DISABLED, NORMAL\n",
    "global firstname,lastname,subject_count, next_page"
   ]
  },
  {
   "cell_type": "code",
   "execution_count": 4,
   "id": "29b76570-f282-4735-b6e8-253d8f673d0d",
   "metadata": {},
   "outputs": [],
   "source": [
    "def entry_and_label_creation(root,question):\n",
    "    label = tk.Label(root,text = question)\n",
    "    entry = tk.Entry(root)\n",
    "    label.pack()\n",
    "    entry.pack()\n",
    "    return entry"
   ]
  },
  {
   "cell_type": "code",
   "execution_count": 5,
   "id": "7b74fe0e-3458-4f40-840b-f89e42f17299",
   "metadata": {},
   "outputs": [],
   "source": [
    "def check(next_page_button, entry_fields=None, subject_entries=None):\n",
    "    if entry_fields is None:\n",
    "        all_fields_filled = True\n",
    "    else:\n",
    "        all_fields_filled = all(field is not None and field.get() != \"\" for field in entry_fields)\n",
    "\n",
    "    \n",
    "    if subject_entries is not None:     \n",
    "        all_subjects_filled = all(entry is not None for entry in subject_entries)\n",
    "        for subject in subject_entries:\n",
    "            print(f\"{subject}\")\n",
    "        if all_subjects_filled:\n",
    "            next_page_button.config(state=tk.NORMAL)\n",
    "        else:\n",
    "            next_page_button.config(state=tk.DISABLED)\n",
    "\n",
    "    else:\n",
    "        if all_fields_filled:\n",
    "            next_page_button.config(state=tk.NORMAL)\n",
    "        else:\n",
    "            next_page_button.config(state=tk.DISABLED)"
   ]
  },
  {
   "cell_type": "code",
   "execution_count": 6,
   "id": "91ddf740-0284-4b33-9fcb-e044ed495798",
   "metadata": {},
   "outputs": [],
   "source": [
    "def main():\n",
    "    global firstname,lastname,subject_count, next_page\n",
    "    \n",
    "    root = tk.Tk()\n",
    "    root.title(\"Student Admission Check\")\n",
    "    root.geometry(\"500x160\")\n",
    "\n",
    "    next_page = tk.Button(root, text = \"Next Page\", state = DISABLED, command = lambda: subject_input( int(subject_count.get()) ,root ))\n",
    "    next_page.pack(side=BOTTOM, padx=0, pady=0)\n",
    "\n",
    "    \n",
    "    \n",
    "    firstname,lastname,subject_count = entry_and_label_creation(root,\"Enter Your First Name\"), entry_and_label_creation(root,\"Enter Your Last Name\"),entry_and_label_creation(root,\"Enter Number of Subjects\")\n",
    "    variables = [firstname,lastname,subject_count]\n",
    "    \n",
    "    firstname.bind(\"<KeyRelease>\", lambda event: check(next_page,entry_fields = variables, subject_entries=None))\n",
    "    lastname.bind(\"<KeyRelease>\", lambda event: check(next_page,entry_fields = variables, subject_entries=None))\n",
    "    subject_count.bind(\"<KeyRelease>\", lambda event: check(next_page,entry_fields = variables, subject_entries=None))\n",
    "        \n",
    "    \n",
    "    \n",
    "    root.mainloop()\n",
    "    "
   ]
  },
  {
   "cell_type": "code",
   "execution_count": 7,
   "id": "d26a2c03-d578-4a9b-95da-1042d46ed3ec",
   "metadata": {},
   "outputs": [],
   "source": [
    "def subject_input(size,root):\n",
    "    root.withdraw()\n",
    "    window = tk.Toplevel(root)\n",
    "    window.title(\"Subject Inputation\")\n",
    "    window.geometry(\"500x200\")\n",
    "\n",
    "    stream = StringVar(root)\n",
    "    available_streams = [\"Computer Science\", \"Mass Communication\"]\n",
    "    stream.set(\"Computer Science\")\n",
    "    core_subjects_present = False\n",
    "    \n",
    "    global subjects\n",
    "        \n",
    "    subjects = [None for _ in range(size+1)]\n",
    "    for index in range(size):\n",
    "        subjects[index] = entry_and_label_creation(window, \"Subjects\")\n",
    "        if subjects[index] is not None:\n",
    "            subjects[index].bind(\"<KeyRelease>\", lambda event, s=subjects: check(next_page, subject_entries=s,entry_fields =None))\n",
    "    \n",
    "    \n",
    "    \n",
    "    next_page = tk.Button(window, text = \"Next Page\", state = DISABLED, command = lambda:  score_input(subjects,stream, window) )\n",
    "    next_page.pack()\n",
    "\n"
   ]
  },
  {
   "cell_type": "code",
   "execution_count": 8,
   "id": "8773fcd7-cd2c-4d2f-ada6-e2fa9e0ad364",
   "metadata": {},
   "outputs": [],
   "source": [
    "def score_input(subjects,stream, window):\n",
    "    window.withdraw()\n",
    "    new_window = tk.TK()\n",
    "    "
   ]
  },
  {
   "cell_type": "code",
   "execution_count": null,
   "id": "f277c969-befa-4a8a-878b-b82462b45cb1",
   "metadata": {},
   "outputs": [],
   "source": [
    "main()"
   ]
  }
 ],
 "metadata": {
  "kernelspec": {
   "display_name": "Python 3 (ipykernel)",
   "language": "python",
   "name": "python3"
  },
  "language_info": {
   "codemirror_mode": {
    "name": "ipython",
    "version": 3
   },
   "file_extension": ".py",
   "mimetype": "text/x-python",
   "name": "python",
   "nbconvert_exporter": "python",
   "pygments_lexer": "ipython3",
   "version": "3.11.7"
  }
 },
 "nbformat": 4,
 "nbformat_minor": 5
}
